{
 "cells": [
  {
   "cell_type": "code",
   "execution_count": 35,
   "metadata": {
    "ExecuteTime": {
     "end_time": "2020-04-07T18:29:31.827746Z",
     "start_time": "2020-04-07T18:29:31.815960Z"
    }
   },
   "outputs": [],
   "source": [
    "import numpy as np\n",
    "from astropy.cosmology import FlatLambdaCDM, Planck15\n",
    "import astropy.constants as const\n",
    "import matplotlib.pyplot as plt\n",
    "from scipy.integrate import simps, quad"
   ]
  },
  {
   "cell_type": "markdown",
   "metadata": {},
   "source": [
    "# PATCHY Mocks cosmology\n",
    "\n",
    "The reference catalogues are extracted from one of the BigMultiDark simulations10 (Klypin et al. 2014), which was performed using gadget-2 (Springel et al. 2005) with 3, 8403\n",
    "particles on a volume of (2.5 h\n",
    "−1Mpc )3\n",
    "assuming Λ cold\n",
    "dark matter Planck cosmology with {ΩM = 0.307115, Ωb =\n",
    "0.048206, σ8 = 0.8288, ns = 0.9611}, and a Hubble constant\n",
    "(H0 = 100 hkm s−1 Mpc−1\n",
    ") given by h = 0.6777. Haloes\n",
    "were defined based on the Bound Density Maximum halo\n",
    "finder (Klypin & Holtzman 1997)."
   ]
  },
  {
   "cell_type": "code",
   "execution_count": 95,
   "metadata": {
    "ExecuteTime": {
     "end_time": "2020-04-07T19:17:14.852149Z",
     "start_time": "2020-04-07T19:17:14.843718Z"
    }
   },
   "outputs": [],
   "source": [
    "h = 0.6777\n",
    "Omega_m = 0.307115\n",
    "Omega_b = 0.048206\n",
    "sigma8 = 0.8288\n",
    "n_s = 0.9611\n",
    "patchy_cosmo = FlatLambdaCDM(H0=100 * h, Om0=Omega_m, Ob0=Omega_b, Tcmb0=2.725)\n",
    "\n",
    "def R(z, cosmo):\n",
    "    return (3/4) * cosmo.Ob0 * (1+z)**3 / (cosmo.Ogamma0 * (1+z)**4)\n",
    "\n",
    "def c_s(z, cosmo):\n",
    "    return const.c.to('km/s').value / np.sqrt(3 * (1+R(z,cosmo))) #km/s\n",
    "def r_s(zarr, cosmo):\n",
    "    rs = simps(c_s(z, cosmo) / cosmo.H(z), zarr)\n",
    "    return rs * cosmo.h\n",
    "\n",
    "def E(z, cosmo):\n",
    "    return np.sqrt(cosmo.Ode0 + cosmo.Om0*(1+z)**3 + cosmo.Ogamma0*(1+z)**4)\n",
    "\n",
    "def H(z, cosmo):\n",
    "    return cosmo.H0.value * E(z, cosmo)\n",
    "\n",
    "def r_s_quad(z, cosmo):\n",
    "    rs,err = quad(lambda z, cosmo: c_s(z,cosmo) / cosmo.H(z).value, z, np.inf, args=(cosmo))\n",
    "    return rs * cosmo.h\n"
   ]
  },
  {
   "cell_type": "code",
   "execution_count": 106,
   "metadata": {
    "ExecuteTime": {
     "end_time": "2020-04-07T19:20:26.653767Z",
     "start_time": "2020-04-07T19:20:26.647788Z"
    }
   },
   "outputs": [
    {
     "name": "stdout",
     "output_type": "stream",
     "text": [
      "100.05599303828275\n"
     ]
    }
   ],
   "source": [
    "z_eq = (patchy_cosmo.Om0/patchy_cosmo.Ogamma0) - 1\n",
    "z_rec = 1060\n",
    "z = np.linspace(z_rec, 1e9, 10000000)\n",
    "rs = r_s(z, patchy_cosmo)\n",
    "print(rs)"
   ]
  },
  {
   "cell_type": "code",
   "execution_count": 107,
   "metadata": {},
   "outputs": [
    {
     "data": {
      "text/plain": [
       "100.04950776903439"
      ]
     },
     "execution_count": 107,
     "metadata": {},
     "output_type": "execute_result"
    }
   ],
   "source": [
    "r_s_quad(z_rec, patchy_cosmo)"
   ]
  },
  {
   "cell_type": "code",
   "execution_count": 103,
   "metadata": {},
   "outputs": [
    {
     "name": "stdout",
     "output_type": "stream",
     "text": [
      "0.0026887816783635436\n"
     ]
    },
    {
     "data": {
      "image/png": "[encoded data removed]",
      "text/plain": [
       "<Figure size 432x288 with 1 Axes>"
      ]
     },
     "metadata": {
      "needs_background": "light"
     },
     "output_type": "display_data"
    }
   ],
   "source": [
    "z = np.linspace(1060, 1e4, 10000)\n",
    "integrand = c_s(z,patchy_cosmo) / H(z,patchy_cosmo)\n",
    "plt.plot(z,integrand)\n",
    "print(integrand[-1])"
   ]
  },
  {
   "cell_type": "code",
   "execution_count": null,
   "metadata": {},
   "outputs": [],
   "source": []
  }
 ],
 "metadata": {
  "kernelspec": {
   "display_name": "Python 3",
   "language": "python",
   "name": "python3"
  },
  "language_info": {
   "codemirror_mode": {
    "name": "ipython",
    "version": 3
   },
   "file_extension": ".py",
   "mimetype": "text/x-python",
   "name": "python",
   "nbconvert_exporter": "python",
   "pygments_lexer": "ipython3",
   "version": "3.7.4"
  }
 },
 "nbformat": 4,
 "nbformat_minor": 4
}
